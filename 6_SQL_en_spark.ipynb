{
 "cells": [
  {
   "cell_type": "code",
   "execution_count": 52,
   "metadata": {},
   "outputs": [],
   "source": [
    "from pyspark import SparkContext\n",
    "from pyspark.sql import SparkSession\n",
    "from pyspark.sql.types import StructField, StructType, IntegerType, StringType, FloatType\n",
    "from pyspark.sql import SQLContext\n",
    "from pyspark.sql.functions import col\n",
    "from pyspark.sql.functions import sum, avg"
   ]
  },
  {
   "cell_type": "code",
   "execution_count": 53,
   "metadata": {},
   "outputs": [],
   "source": [
    "spark = SparkContext(master='local', appName='Dataframes')\n",
    "sqlContext = SQLContext(spark)"
   ]
  },
  {
   "cell_type": "code",
   "execution_count": 54,
   "metadata": {},
   "outputs": [
    {
     "output_type": "stream",
     "name": "stdout",
     "text": [
      "deporte.csv\t deportistaError.csv  modelo_relacional.jpg\ndeportista2.csv  evento.csv\t      paises.csv\ndeportista.csv\t juegos.csv\t      resultados.csv\n"
     ]
    }
   ],
   "source": [
    "!ls files"
   ]
  },
  {
   "cell_type": "code",
   "execution_count": 55,
   "metadata": {},
   "outputs": [],
   "source": [
    "#aca cargo la ruta del archivo\n",
    "path = \"files/\""
   ]
  },
  {
   "cell_type": "code",
   "execution_count": 56,
   "metadata": {},
   "outputs": [],
   "source": [
    "equiposOlimpicosRDD = spark.textFile(path+'paises.csv') \\\n",
    "    .map(lambda line : line.split(','))"
   ]
  },
  {
   "cell_type": "code",
   "execution_count": 87,
   "metadata": {},
   "outputs": [],
   "source": [
    "#spark.stop() #stop detiene el contexto"
   ]
  },
  {
   "cell_type": "code",
   "execution_count": 58,
   "metadata": {},
   "outputs": [],
   "source": [
    "deportistaOlimpicoRDD = spark.textFile(path+'deportista.csv').map(lambda l: l.split(','))\n",
    "deportistaOlimpicoRDD2 = spark.textFile(path+'deportista2.csv').map(lambda l: l.split(','))"
   ]
  },
  {
   "cell_type": "code",
   "execution_count": 59,
   "metadata": {},
   "outputs": [],
   "source": [
    "deportistaOlimpicoRDD = deportistaOlimpicoRDD.union(deportistaOlimpicoRDD2)"
   ]
  },
  {
   "cell_type": "code",
   "execution_count": 60,
   "metadata": {},
   "outputs": [],
   "source": [
    "def eliminaEncabezado(indice, interador):\n",
    "    return iter(list(interador)[1:])"
   ]
  },
  {
   "cell_type": "code",
   "execution_count": 61,
   "metadata": {},
   "outputs": [],
   "source": [
    "deportistaOlimpicoRDD = deportistaOlimpicoRDD.mapPartitionsWithIndex(eliminaEncabezado)"
   ]
  },
  {
   "cell_type": "code",
   "execution_count": 62,
   "metadata": {},
   "outputs": [],
   "source": [
    "deportistaOlimpicoRDD = deportistaOlimpicoRDD.map(lambda l: \n",
    "    (\n",
    "    int(l[0]),\n",
    "    l[1],\n",
    "    int(l[2]),\n",
    "    int(l[3]),\n",
    "    int(l[4]),\n",
    "    float(l[5]),\n",
    "    int(l[6])\n",
    "    )\n",
    ")"
   ]
  },
  {
   "cell_type": "code",
   "execution_count": 63,
   "metadata": {},
   "outputs": [],
   "source": [
    "schema = StructType([\n",
    "    StructField('deportista_id', IntegerType(), False),\n",
    "    StructField('nombre', StringType(), False),\n",
    "    StructField('genero', IntegerType(), False),\n",
    "    StructField('edad', IntegerType(), False),\n",
    "    StructField('altura', IntegerType(), False),\n",
    "    StructField('peso', FloatType(), False),\n",
    "    StructField('equipo_id', IntegerType(), False )\n",
    "])"
   ]
  },
  {
   "cell_type": "code",
   "execution_count": 64,
   "metadata": {},
   "outputs": [],
   "source": [
    "deportistaOlimpicoDF = sqlContext.createDataFrame(deportistaOlimpicoRDD, schema)"
   ]
  },
  {
   "cell_type": "code",
   "execution_count": 65,
   "metadata": {},
   "outputs": [],
   "source": [
    "evento_schema = StructType([\n",
    "    StructField('evento_id', IntegerType(), False),\n",
    "    StructField('evento', StringType(), False),\n",
    "    StructField('deporte_id', IntegerType(), False)\n",
    "])"
   ]
  },
  {
   "cell_type": "code",
   "execution_count": 66,
   "metadata": {},
   "outputs": [],
   "source": [
    "eventoDF = sqlContext.read.format(\"csv\").\\\n",
    "        option(\"header\", True).\\\n",
    "        schema(evento_schema).\\\n",
    "        load(path+\"evento.csv\")"
   ]
  },
  {
   "cell_type": "code",
   "execution_count": 67,
   "metadata": {},
   "outputs": [],
   "source": [
    "paises_schema = StructType([\n",
    "    StructField(\"equipo_id\", IntegerType(), False),\n",
    "    StructField(\"equipo\", StringType(), False), \n",
    "    StructField(\"sigla\", StringType(), False)\n",
    "])\n"
   ]
  },
  {
   "cell_type": "code",
   "execution_count": 68,
   "metadata": {},
   "outputs": [],
   "source": [
    "paisesDF = sqlContext.read.format(\"csv\").\\\n",
    "        option(\"header\", True).\\\n",
    "        schema(paises_schema).\\\n",
    "        load(path+\"paises.csv\")\n"
   ]
  },
  {
   "cell_type": "code",
   "execution_count": 69,
   "metadata": {},
   "outputs": [],
   "source": [
    "resultados_schema = StructType([\n",
    "    StructField(\"resultado_id\", IntegerType(), False),\n",
    "    StructField(\"medalla\", StringType(), False),\n",
    "    StructField(\"deportista_id\", IntegerType(), False),\n",
    "    StructField(\"juego_id\", IntegerType(), False),\n",
    "    StructField(\"evento_id\", IntegerType(), False)\n",
    "])\n"
   ]
  },
  {
   "cell_type": "code",
   "execution_count": 70,
   "metadata": {},
   "outputs": [],
   "source": [
    "resultadosDF = sqlContext.read.format(\"csv\").\\\n",
    "            option(\"header\", True).\\\n",
    "            schema(resultados_schema).\\\n",
    "            load(path+\"resultados.csv\")\n"
   ]
  },
  {
   "cell_type": "code",
   "execution_count": 71,
   "metadata": {},
   "outputs": [],
   "source": [
    "deportes_schema = StructType([\n",
    "    StructField(\"deporte_id\", IntegerType(), False),\n",
    "    StructField(\"deporte\", StringType(), False)\n",
    "])"
   ]
  },
  {
   "cell_type": "code",
   "execution_count": 72,
   "metadata": {},
   "outputs": [],
   "source": [
    "deportesDF = sqlContext.read.format(\"csv\").\\\n",
    "            option(\"header\", True).\\\n",
    "            schema(deportes_schema).\\\n",
    "            load(path+\"deporte.csv\")"
   ]
  },
  {
   "cell_type": "code",
   "execution_count": 73,
   "metadata": {},
   "outputs": [],
   "source": [
    "#eliminanado y renombrando columnas\n",
    "deportistaOlimpicoDF = deportistaOlimpicoDF.withColumnRenamed('genero','sexo').drop('altura')"
   ]
  },
  {
   "cell_type": "code",
   "execution_count": 74,
   "metadata": {},
   "outputs": [],
   "source": [
    "deportistaOlimpicoDF = deportistaOlimpicoDF.select('deportista_id', 'nombre', col('edad').alias('edadAlJugar'), 'equipo_id')"
   ]
  },
  {
   "cell_type": "code",
   "execution_count": 75,
   "metadata": {},
   "outputs": [],
   "source": [
    "deportistaOlimpicoDF = deportistaOlimpicoDF.filter(deportistaOlimpicoDF.edadAlJugar != 0)"
   ]
  },
  {
   "cell_type": "code",
   "execution_count": 76,
   "metadata": {},
   "outputs": [],
   "source": [
    "juego_schema = StructType([\n",
    "    StructField(\"juego_id\", IntegerType(), False),\n",
    "    StructField(\"anio\", StringType(), False),\n",
    "    StructField(\"temporada\", StringType(), False),\n",
    "    StructField(\"ciudad\", StringType(), False)\n",
    "])"
   ]
  },
  {
   "cell_type": "code",
   "execution_count": 77,
   "metadata": {},
   "outputs": [],
   "source": [
    "juegoDF = sqlContext.read.format(\"csv\").\\\n",
    "            option(\"header\", True).\\\n",
    "            schema(juego_schema).\\\n",
    "            load(path+\"juegos.csv\")"
   ]
  },
  {
   "cell_type": "code",
   "execution_count": 79,
   "metadata": {},
   "outputs": [],
   "source": [
    "medallistaXAnio = deportistaOlimpicoDF \\\n",
    "    .join(\n",
    "        resultadosDF, \n",
    "        deportistaOlimpicoDF.deportista_id == resultadosDF.deportista_id, \n",
    "        \"left\"\n",
    "    ) \\\n",
    "    .join(\n",
    "        juegoDF, \n",
    "        juegoDF.juego_id == resultadosDF.juego_id, \n",
    "        \"left\"\n",
    "    ) \\\n",
    "    .join(\n",
    "        paisesDF, \n",
    "        deportistaOlimpicoDF.equipo_id == paisesDF.equipo_id, \n",
    "        \"left\"\n",
    "    ) \\\n",
    "    .join(\n",
    "        eventoDF, \n",
    "        eventoDF.evento_id == resultadosDF.evento_id, \n",
    "        \"left\"\n",
    "    ) \\\n",
    "    .join(\n",
    "        deportesDF, \n",
    "        eventoDF.deporte_id == deportesDF.deporte_id, \n",
    "        \"left\"\n",
    "    ) \\\n",
    "    .select(\n",
    "        \"sigla\",\n",
    "        \"anio\",\n",
    "        \"medalla\",\n",
    "        eventoDF.evento.alias(\"nombre subdisciplina\"),\n",
    "        deportesDF.deporte.alias(\"nombre disciplina\"),\n",
    "        deportistaOlimpicoDF.nombre    \n",
    "    )\n"
   ]
  },
  {
   "cell_type": "code",
   "execution_count": 80,
   "metadata": {},
   "outputs": [],
   "source": [
    "medallistaXAnio2 = medallistaXAnio.filter(medallistaXAnio.medalla != 'NA') \\\n",
    "    .sort('anio') \\\n",
    "        .groupBy('sigla', 'anio','nombre subdisciplina') \\\n",
    "            .count()"
   ]
  },
  {
   "cell_type": "code",
   "execution_count": 81,
   "metadata": {},
   "outputs": [],
   "source": [
    "resultadosDF.registerTempTable('resultado')\n",
    "deportistaOlimpicoDF.registerTempTable('deportista')\n",
    "paisesDF.registerTempTable('paises')"
   ]
  },
  {
   "cell_type": "code",
   "execution_count": 82,
   "metadata": {},
   "outputs": [
    {
     "output_type": "stream",
     "name": "stdout",
     "text": [
      "+-------------+--------------------+-----------+---------+\n|deportista_id|              nombre|edadAlJugar|equipo_id|\n+-------------+--------------------+-----------+---------+\n|            1|           A Dijiang|         24|      199|\n|            2|            A Lamusi|         23|      199|\n|            3| Gunnar Nielsen Aaby|         24|      273|\n|            4|Edgar Lindenau Aabye|         34|      278|\n|            5|Christine Jacoba ...|         21|      705|\n+-------------+--------------------+-----------+---------+\nonly showing top 5 rows\n\n"
     ]
    }
   ],
   "source": [
    "sqlContext.sql('SELECT * FROM deportista').show(5)"
   ]
  },
  {
   "cell_type": "code",
   "execution_count": 85,
   "metadata": {},
   "outputs": [
    {
     "output_type": "stream",
     "name": "stdout",
     "text": [
      "+-------+--------------------+-----+\n|medalla|              equipo|sigla|\n+-------+--------------------+-----+\n| Silver|            Zimbabwe|  ZIM|\n| Bronze|            Zimbabwe|  ZIM|\n|   Gold|            Zimbabwe|  ZIM|\n| Silver|              Zambia|  ZAM|\n|   Gold|          Yugoslavia|  YUG|\n| Silver|          Yugoslavia|  YUG|\n| Bronze|          Yugoslavia|  YUG|\n| Bronze|West Indies Feder...|  WIF|\n| Silver|             Vietnam|  VIE|\n|   Gold|             Vietnam|  VIE|\n|   Gold|           Venezuela|  VEN|\n| Bronze|           Venezuela|  VEN|\n| Silver|           Venezuela|  VEN|\n| Silver|          Uzbekistan|  UZB|\n|   Gold|          Uzbekistan|  UZB|\n| Bronze|          Uzbekistan|  UZB|\n|   Gold|New York Athletic...|  USA|\n| Bronze|New York Athletic...|  USA|\n|   Gold|            Minotaur|  USA|\n|   Gold|            Kathleen|  USA|\n+-------+--------------------+-----+\nonly showing top 20 rows\n\n"
     ]
    }
   ],
   "source": [
    "sqlContext.sql('''SELECT DISTINCT medalla, equipo, sigla\n",
    "                    FROM resultado r\n",
    "                    JOIN deportista d\n",
    "                      ON r.deportista_id = d.deportista_id\n",
    "                    JOIN paises p\n",
    "                      ON p.equipo_id = d.equipo_id\n",
    "                   WHERE medalla <> \"NA\"\n",
    "                   ORDER BY sigla DESC\n",
    "                    ''').show()"
   ]
  },
  {
   "cell_type": "code",
   "execution_count": null,
   "metadata": {},
   "outputs": [],
   "source": []
  }
 ],
 "metadata": {
  "kernelspec": {
   "display_name": "Python 3",
   "language": "python",
   "name": "python3"
  },
  "language_info": {
   "codemirror_mode": {
    "name": "ipython",
    "version": 3
   },
   "file_extension": ".py",
   "mimetype": "text/x-python",
   "name": "python",
   "nbconvert_exporter": "python",
   "pygments_lexer": "ipython3",
   "version": "3.8.3-final"
  }
 },
 "nbformat": 4,
 "nbformat_minor": 2
}