{
 "cells": [
  {
   "cell_type": "code",
   "execution_count": 1,
   "metadata": {},
   "outputs": [],
   "source": [
    "from pyspark import SparkContext\n",
    "from pyspark.sql import SparkSession"
   ]
  },
  {
   "cell_type": "code",
   "execution_count": 2,
   "metadata": {},
   "outputs": [],
   "source": [
    "sc = SparkContext(master='local', appName='TransformacionesYAcciones')"
   ]
  },
  {
   "cell_type": "code",
   "execution_count": 3,
   "metadata": {},
   "outputs": [
    {
     "output_type": "execute_result",
     "data": {
      "text/plain": [
       "pyspark.rdd.RDD"
      ]
     },
     "metadata": {},
     "execution_count": 3
    }
   ],
   "source": [
    "rdd1 = sc.parallelize([1,2,3])\n",
    "type(rdd1)"
   ]
  },
  {
   "cell_type": "code",
   "execution_count": 4,
   "metadata": {},
   "outputs": [
    {
     "output_type": "execute_result",
     "data": {
      "text/plain": [
       "[1, 2, 3]"
      ]
     },
     "metadata": {},
     "execution_count": 4
    }
   ],
   "source": [
    "rdd1.collect()"
   ]
  },
  {
   "cell_type": "code",
   "execution_count": 5,
   "metadata": {},
   "outputs": [
    {
     "output_type": "execute_result",
     "data": {
      "text/plain": [
       "<SparkContext master=local appName=TransformacionesYAcciones>"
      ],
      "text/html": "\n        <div>\n            <p><b>SparkContext</b></p>\n\n            <p><a href=\"http://192.168.0.16:4040\">Spark UI</a></p>\n\n            <dl>\n              <dt>Version</dt>\n                <dd><code>v3.0.1</code></dd>\n              <dt>Master</dt>\n                <dd><code>local</code></dd>\n              <dt>AppName</dt>\n                <dd><code>TransformacionesYAcciones</code></dd>\n            </dl>\n        </div>\n        "
     },
     "metadata": {},
     "execution_count": 5
    }
   ],
   "source": [
    "sc"
   ]
  },
  {
   "cell_type": "code",
   "execution_count": 6,
   "metadata": {},
   "outputs": [
    {
     "output_type": "stream",
     "name": "stdout",
     "text": [
      "deporte.csv\t deportistaError.csv  modelo_relacional.jpg\ndeportista2.csv  evento.csv\t      paises.csv\ndeportista.csv\t juegos.csv\t      resultados.csv\n"
     ]
    }
   ],
   "source": [
    "!ls files"
   ]
  },
  {
   "cell_type": "code",
   "execution_count": 7,
   "metadata": {},
   "outputs": [],
   "source": [
    "#aca cargo la ruta del archivo\n",
    "path = \"files/\""
   ]
  },
  {
   "cell_type": "code",
   "execution_count": 8,
   "metadata": {},
   "outputs": [],
   "source": [
    "equiposOlimpicosRDD = sc.textFile(path+'paises.csv') \\\n",
    "    .map(lambda line : line.split(','))"
   ]
  },
  {
   "cell_type": "code",
   "execution_count": 9,
   "metadata": {},
   "outputs": [
    {
     "output_type": "execute_result",
     "data": {
      "text/plain": [
       "[['id', 'equipo', 'sigla'],\n",
       " ['1', '30. Februar', 'AUT'],\n",
       " ['2', 'A North American Team', 'MEX'],\n",
       " ['3', 'Acipactli', 'MEX'],\n",
       " ['4', 'Acturus', 'ARG']]"
      ]
     },
     "metadata": {},
     "execution_count": 9
    }
   ],
   "source": [
    "equiposOlimpicosRDD.take(5)"
   ]
  },
  {
   "cell_type": "code",
   "execution_count": 10,
   "metadata": {},
   "outputs": [],
   "source": [
    "#sc.stop() #stop detiene el contexto"
   ]
  },
  {
   "cell_type": "code",
   "execution_count": 11,
   "metadata": {},
   "outputs": [
    {
     "output_type": "execute_result",
     "data": {
      "text/plain": [
       "231"
      ]
     },
     "metadata": {},
     "execution_count": 11
    }
   ],
   "source": [
    "equiposOlimpicosRDD.map(lambda x: (x[2])).distinct().count()"
   ]
  },
  {
   "cell_type": "code",
   "execution_count": 12,
   "metadata": {},
   "outputs": [
    {
     "output_type": "execute_result",
     "data": {
      "text/plain": [
       "[('sigla', 1), ('AUT', 11), ('MEX', 9), ('ARG', 18), ('AFG', 1)]"
      ]
     },
     "metadata": {},
     "execution_count": 12
    }
   ],
   "source": [
    "equiposOlimpicosRDD.map(lambda x: (x[2], x[1])).groupByKey()\\\n",
    "    .mapValues(len).take(5)"
   ]
  },
  {
   "cell_type": "code",
   "execution_count": 13,
   "metadata": {},
   "outputs": [
    {
     "output_type": "execute_result",
     "data": {
      "text/plain": [
       "[('sigla', ['equipo']),\n",
       " ('AUT',\n",
       "  ['30. Februar',\n",
       "   'Austria',\n",
       "   'Austria-1',\n",
       "   'Austria-2',\n",
       "   'Breslau',\n",
       "   'Brigantia',\n",
       "   'Donar III',\n",
       "   'Evita VI',\n",
       "   'May-Be 1960',\n",
       "   '\"R.-V. Germania; Leitmeritz\"',\n",
       "   'Surprise']),\n",
       " ('MEX',\n",
       "  ['A North American Team',\n",
       "   'Acipactli',\n",
       "   'Chamukina',\n",
       "   'Mexico',\n",
       "   'Mexico-1',\n",
       "   'Mexico-2',\n",
       "   'Nausikaa 4',\n",
       "   'Tlaloc',\n",
       "   'Xolotl']),\n",
       " ('ARG',\n",
       "  ['Acturus',\n",
       "   'Antares',\n",
       "   'Arcturus',\n",
       "   'Ardilla',\n",
       "   'Argentina',\n",
       "   'Argentina-1',\n",
       "   'Argentina-2',\n",
       "   'Blue Red',\n",
       "   'Covunco III',\n",
       "   'Cupidon III',\n",
       "   'Djinn',\n",
       "   'Gullvinge',\n",
       "   'Matrero II',\n",
       "   'Mizar',\n",
       "   'Pampero',\n",
       "   'Rampage',\n",
       "   'Tango',\n",
       "   'Wiking']),\n",
       " ('AFG', ['Afghanistan'])]"
      ]
     },
     "metadata": {},
     "execution_count": 13
    }
   ],
   "source": [
    "equiposOlimpicosRDD.map(lambda x: (x[2], x[1])).groupByKey()\\\n",
    "    .mapValues(list).take(5)"
   ]
  },
  {
   "cell_type": "code",
   "execution_count": 14,
   "metadata": {},
   "outputs": [],
   "source": [
    "equiposArgentinos = equiposOlimpicosRDD.filter(lambda l: 'ARG' in l)"
   ]
  },
  {
   "cell_type": "code",
   "execution_count": 15,
   "metadata": {},
   "outputs": [
    {
     "output_type": "execute_result",
     "data": {
      "text/plain": [
       "[['4', 'Acturus', 'ARG'],\n",
       " ['37', 'Antares', 'ARG'],\n",
       " ['42', 'Arcturus', 'ARG'],\n",
       " ['43', 'Ardilla', 'ARG'],\n",
       " ['45', 'Argentina', 'ARG'],\n",
       " ['46', 'Argentina-1', 'ARG'],\n",
       " ['47', 'Argentina-2', 'ARG'],\n",
       " ['119', 'Blue Red', 'ARG'],\n",
       " ['238', 'Covunco III', 'ARG'],\n",
       " ['252', 'Cupidon III', 'ARG'],\n",
       " ['288', 'Djinn', 'ARG'],\n",
       " ['436', 'Gullvinge', 'ARG'],\n",
       " ['644', 'Matrero II', 'ARG'],\n",
       " ['672', 'Mizar', 'ARG'],\n",
       " ['774', 'Pampero', 'ARG'],\n",
       " ['843', 'Rampage', 'ARG'],\n",
       " ['1031', 'Tango', 'ARG'],\n",
       " ['1162', 'Wiking', 'ARG']]"
      ]
     },
     "metadata": {},
     "execution_count": 15
    }
   ],
   "source": [
    "equiposArgentinos.collect()"
   ]
  },
  {
   "cell_type": "code",
   "execution_count": 16,
   "metadata": {},
   "outputs": [
    {
     "output_type": "execute_result",
     "data": {
      "text/plain": [
       "1185"
      ]
     },
     "metadata": {},
     "execution_count": 16
    }
   ],
   "source": [
    "equiposOlimpicosRDD.count()"
   ]
  },
  {
   "cell_type": "code",
   "execution_count": 17,
   "metadata": {},
   "outputs": [
    {
     "output_type": "execute_result",
     "data": {
      "text/plain": [
       "1185"
      ]
     },
     "metadata": {},
     "execution_count": 17
    }
   ],
   "source": [
    "equiposOlimpicosRDD.countApprox(20)"
   ]
  },
  {
   "cell_type": "code",
   "execution_count": 18,
   "metadata": {},
   "outputs": [
    {
     "output_type": "stream",
     "name": "stdout",
     "text": [
      "deporte.csv\t deportistaError.csv  modelo_relacional.jpg\ndeportista2.csv  evento.csv\t      paises.csv\ndeportista.csv\t juegos.csv\t      resultados.csv\n"
     ]
    }
   ],
   "source": [
    "!ls files"
   ]
  },
  {
   "cell_type": "code",
   "execution_count": 19,
   "metadata": {},
   "outputs": [],
   "source": [
    "deportistaOlimpicoRDD = sc.textFile(path+'deportista.csv').map(lambda l: l.split(','))\n",
    "deportistaOlimpicoRDD2 = sc.textFile(path+'deportista2.csv').map(lambda l: l.split(','))"
   ]
  },
  {
   "cell_type": "code",
   "execution_count": 20,
   "metadata": {},
   "outputs": [],
   "source": [
    "deportistaOlimpicoRDD = deportistaOlimpicoRDD.union(deportistaOlimpicoRDD2)"
   ]
  },
  {
   "cell_type": "code",
   "execution_count": 21,
   "metadata": {},
   "outputs": [
    {
     "output_type": "execute_result",
     "data": {
      "text/plain": [
       "135572"
      ]
     },
     "metadata": {},
     "execution_count": 21
    }
   ],
   "source": [
    "deportistaOlimpicoRDD.count()"
   ]
  },
  {
   "cell_type": "code",
   "execution_count": 22,
   "metadata": {},
   "outputs": [
    {
     "output_type": "execute_result",
     "data": {
      "text/plain": [
       "[['id', 'equipo', 'sigla'], ['999', 'Stella-2', 'NOR']]"
      ]
     },
     "metadata": {},
     "execution_count": 22
    }
   ],
   "source": [
    "equiposOlimpicosRDD.top(2)"
   ]
  },
  {
   "cell_type": "code",
   "execution_count": 23,
   "metadata": {},
   "outputs": [
    {
     "output_type": "execute_result",
     "data": {
      "text/plain": [
       "[['deportista_id', 'nombre', 'genero', 'edad', 'altura', 'peso', 'equipo_id'],\n",
       " ['99999', 'Alexander Grant Alick Rennie', '1', '32', '182', '71', '967']]"
      ]
     },
     "metadata": {},
     "execution_count": 23
    }
   ],
   "source": [
    "deportistaOlimpicoRDD.top(2)"
   ]
  },
  {
   "cell_type": "code",
   "execution_count": 24,
   "metadata": {},
   "outputs": [
    {
     "output_type": "execute_result",
     "data": {
      "text/plain": [
       "[('199', (['1', 'A Dijiang', '1', '24', '180', '80'], 'CHN')),\n",
       " ('199', (['2', 'A Lamusi', '1', '23', '170', '60'], 'CHN')),\n",
       " ('199', (['602', 'Abudoureheman', '1', '22', '182', '75'], 'CHN')),\n",
       " ('199', (['1463', 'Ai Linuer', '1', '25', '160', '62'], 'CHN')),\n",
       " ('199', (['1464', 'Ai Yanhan', '2', '14', '168', '54'], 'CHN'))]"
      ]
     },
     "metadata": {},
     "execution_count": 24
    }
   ],
   "source": [
    "deportistaOlimpicoRDD.map(lambda l: [l[-1], l[:-1]]).join(equiposOlimpicosRDD.map(lambda x: [x[0], x[2]])).take(5)"
   ]
  },
  {
   "cell_type": "code",
   "execution_count": 25,
   "metadata": {},
   "outputs": [
    {
     "output_type": "execute_result",
     "data": {
      "text/plain": [
       "[('273',\n",
       "  (['56134', 'Niels Christian Kold Jrgensen', '1', '21', '0', '0'], 'DEN')),\n",
       " ('624', (['13109', 'Harry Arthur Bonavia', '1', '20', '0', '0'], 'MLT')),\n",
       " ('399', (['98241', 'Eberhard Radzik', '1', '25', '168', '75'], 'GER')),\n",
       " ('96', (['83781', 'Albert Muylle', '1', '0', '0', '0'], 'BEL')),\n",
       " ('1096',\n",
       "  (['101476', 'Clarence Franklin Robison', '1', '25', '192', '77'], 'USA')),\n",
       " ('967', (['18615', 'Lesley Carstens', '2', '27', '0', '0'], 'RSA')),\n",
       " ('362', (['78848', 'mile Mercier', '1', '0', '0', '0'], 'FRA')),\n",
       " ('810',\n",
       "  (['94563', 'Andrzej Ryszard Pitkowski', '1', '22', '169', '68'], 'POL')),\n",
       " ('1096', (['114820', 'Jerome Steinert', '1', '28', '0', '0'], 'USA')),\n",
       " ('576', (['32099', 'Assaf ElMurr', '1', '24', '0', '0'], 'LIB'))]"
      ]
     },
     "metadata": {},
     "execution_count": 25
    }
   ],
   "source": [
    "deportistaOlimpicoRDD.map(lambda l: [l[-1], l[:-1]]).join(equiposOlimpicosRDD.map(lambda x: [x[0], x[2]])).takeSample(False, 10, 25)"
   ]
  },
  {
   "cell_type": "code",
   "execution_count": 26,
   "metadata": {},
   "outputs": [],
   "source": [
    "resultados = sc.textFile(path+'resultados.csv').map(lambda x: x.split(','))"
   ]
  },
  {
   "cell_type": "code",
   "execution_count": 27,
   "metadata": {},
   "outputs": [],
   "source": [
    "resultadoGanador = resultados.filter(lambda l : 'NA' not in l[1])"
   ]
  },
  {
   "cell_type": "code",
   "execution_count": 28,
   "metadata": {},
   "outputs": [
    {
     "output_type": "execute_result",
     "data": {
      "text/plain": [
       "[['resultado_id', 'medalla', 'deportista_id', 'juego_id', 'evento_id'],\n",
       " ['4', 'Gold', '4', '2', '4']]"
      ]
     },
     "metadata": {},
     "execution_count": 28
    }
   ],
   "source": [
    "resultadoGanador.take(2)"
   ]
  },
  {
   "cell_type": "code",
   "execution_count": 29,
   "metadata": {},
   "outputs": [],
   "source": [
    "deportistaPaises  = deportistaOlimpicoRDD.map(lambda l: [l[-1], l[:-1]]) \\\n",
    "    .join(equiposOlimpicosRDD.map(lambda x: [x[0], x[2]])) \n",
    "        "
   ]
  },
  {
   "cell_type": "code",
   "execution_count": 30,
   "metadata": {},
   "outputs": [
    {
     "output_type": "execute_result",
     "data": {
      "text/plain": [
       "[('74',\n",
       "  ((['65', 'Patimat Abakarova', '2', '21', '165', '49'], 'AZE'), 'Gold')),\n",
       " ('74', ((['129', 'Ruslan Abbasov', '1', '22', '181', '74'], 'AZE'), 'Gold')),\n",
       " ('74', ((['130', 'Tural Abbasov', '1', '18', '182', '76'], 'AZE'), 'Gold')),\n",
       " ('74', ((['131', 'Tran Abbasova', '2', '33', '159', '53'], 'AZE'), 'Gold')),\n",
       " ('74',\n",
       "  ((['335', 'Abdulqdir Abdullayev', '1', '28', '188', '91'], 'AZE'), 'Gold'))]"
      ]
     },
     "metadata": {},
     "execution_count": 30
    }
   ],
   "source": [
    "deportistaPaises.join(resultadoGanador).take(5)"
   ]
  },
  {
   "cell_type": "code",
   "execution_count": 31,
   "metadata": {},
   "outputs": [],
   "source": [
    "valoresMedallas = {\n",
    "    'Gold' : 7,\n",
    "    'Silver' : 5,\n",
    "    'Bronze' : 4\n",
    "}"
   ]
  },
  {
   "cell_type": "code",
   "execution_count": 50,
   "metadata": {},
   "outputs": [],
   "source": [
    "paisesMedallas = deportistaPaises.join(resultadoGanador)"
   ]
  },
  {
   "cell_type": "code",
   "execution_count": 51,
   "metadata": {},
   "outputs": [
    {
     "output_type": "execute_result",
     "data": {
      "text/plain": [
       "[['AZE', 'Gold'], ['AZE', 'Gold'], ['AZE', 'Gold'], ['AZE', 'Gold']]"
      ]
     },
     "metadata": {},
     "execution_count": 51
    }
   ],
   "source": [
    "paisesMedallas.map(lambda x: x[1][0][-1], x[1][1]]).take(4)"
   ]
  },
  {
   "cell_type": "code",
   "execution_count": 56,
   "metadata": {},
   "outputs": [],
   "source": [
    "paisesMedallas = paisesMedallas.map(lambda x: (x[1][0][-1], valoresMedallas[x[1][1]]))"
   ]
  },
  {
   "cell_type": "code",
   "execution_count": 57,
   "metadata": {},
   "outputs": [],
   "source": [
    "from operator import add"
   ]
  },
  {
   "cell_type": "code",
   "execution_count": 58,
   "metadata": {},
   "outputs": [],
   "source": [
    "conclusion = paisesMedallas.reduceByKey((add)).sortBy(lambda x: x[1], ascending=False)"
   ]
  },
  {
   "cell_type": "code",
   "execution_count": 60,
   "metadata": {},
   "outputs": [
    {
     "output_type": "execute_result",
     "data": {
      "text/plain": [
       "[('CAN', 32538),\n",
       " ('ARG', 12520),\n",
       " ('HUN', 10860),\n",
       " ('MEX', 6124),\n",
       " ('RSA', 3788),\n",
       " ('BLR', 3580),\n",
       " ('LTU', 1535),\n",
       " ('MGL', 1460),\n",
       " ('USA', 1342),\n",
       " ('AZE', 1218)]"
      ]
     },
     "metadata": {},
     "execution_count": 60
    }
   ],
   "source": [
    "conclusion.take(10)"
   ]
  },
  {
   "cell_type": "code",
   "execution_count": null,
   "metadata": {},
   "outputs": [],
   "source": []
  }
 ],
 "metadata": {
  "kernelspec": {
   "display_name": "Python 3",
   "language": "python",
   "name": "python3"
  },
  "language_info": {
   "codemirror_mode": {
    "name": "ipython",
    "version": 3
   },
   "file_extension": ".py",
   "mimetype": "text/x-python",
   "name": "python",
   "nbconvert_exporter": "python",
   "pygments_lexer": "ipython3",
   "version": "3.8.3-final"
  }
 },
 "nbformat": 4,
 "nbformat_minor": 2
}