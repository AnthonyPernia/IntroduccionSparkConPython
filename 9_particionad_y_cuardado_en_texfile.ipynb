{
 "metadata": {
  "language_info": {
   "codemirror_mode": {
    "name": "ipython",
    "version": 3
   },
   "file_extension": ".py",
   "mimetype": "text/x-python",
   "name": "python",
   "nbconvert_exporter": "python",
   "pygments_lexer": "ipython3",
   "version": "3.8.3-final"
  },
  "orig_nbformat": 2,
  "kernelspec": {
   "name": "python3",
   "display_name": "Python 3"
  }
 },
 "nbformat": 4,
 "nbformat_minor": 2,
 "cells": [
  {
   "cell_type": "code",
   "execution_count": 2,
   "metadata": {},
   "outputs": [],
   "source": [
    "from pyspark.sql import SparkSession"
   ]
  },
  {
   "cell_type": "code",
   "execution_count": 6,
   "metadata": {},
   "outputs": [],
   "source": [
    "spark = SparkSession.builder.appName('particionado') \\\n",
    "    .master('local[5]').getOrCreate()"
   ]
  },
  {
   "cell_type": "code",
   "execution_count": 7,
   "metadata": {},
   "outputs": [],
   "source": [
    "df = spark.range(0,20)"
   ]
  },
  {
   "cell_type": "code",
   "execution_count": 8,
   "metadata": {},
   "outputs": [
    {
     "output_type": "execute_result",
     "data": {
      "text/plain": [
       "5"
      ]
     },
     "metadata": {},
     "execution_count": 8
    }
   ],
   "source": [
    "df.rdd.getNumPartitions()"
   ]
  },
  {
   "cell_type": "code",
   "execution_count": 9,
   "metadata": {},
   "outputs": [],
   "source": [
    "rdd1 = spark.sparkContext.parallelize((0,20), 10)"
   ]
  },
  {
   "cell_type": "code",
   "execution_count": 10,
   "metadata": {},
   "outputs": [
    {
     "output_type": "execute_result",
     "data": {
      "text/plain": [
       "10"
      ]
     },
     "metadata": {},
     "execution_count": 10
    }
   ],
   "source": [
    "rdd1.getNumPartitions()"
   ]
  },
  {
   "cell_type": "code",
   "execution_count": 12,
   "metadata": {},
   "outputs": [],
   "source": [
    "rddDesdeArchivo = spark.sparkContext.textFile('files/deporte.csv', 10)"
   ]
  },
  {
   "cell_type": "code",
   "execution_count": 13,
   "metadata": {},
   "outputs": [
    {
     "output_type": "execute_result",
     "data": {
      "text/plain": [
       "10"
      ]
     },
     "metadata": {},
     "execution_count": 13
    }
   ],
   "source": [
    "rddDesdeArchivo.getNumPartitions()"
   ]
  },
  {
   "cell_type": "code",
   "execution_count": 17,
   "metadata": {},
   "outputs": [],
   "source": [
    "rddDesdeArchivo.saveAsTextFile('files/salidaTexto')"
   ]
  },
  {
   "cell_type": "code",
   "execution_count": 19,
   "metadata": {},
   "outputs": [
    {
     "output_type": "stream",
     "name": "stdout",
     "text": [
      "part-00000  part-00002  part-00004  part-00006  part-00008  _SUCCESS\npart-00001  part-00003  part-00005  part-00007  part-00009\n"
     ]
    }
   ],
   "source": [
    "ls files/salidaTexto/"
   ]
  },
  {
   "cell_type": "code",
   "execution_count": 21,
   "metadata": {},
   "outputs": [
    {
     "output_type": "stream",
     "name": "stdout",
     "text": [
      "deporte_id,deporte\n1,Basketball\n2,Judo\n3,Football\n4,Tug-Of-War\n5,Speed Skating\n6,Cross Country Skiing\n"
     ]
    }
   ],
   "source": [
    "!head -n 10 files/salidaTexto/part-00000"
   ]
  },
  {
   "cell_type": "code",
   "execution_count": 22,
   "metadata": {},
   "outputs": [],
   "source": [
    "rdd = spark.sparkContext.wholeTextFiles('files/salidaTexto/*')"
   ]
  },
  {
   "cell_type": "code",
   "execution_count": 24,
   "metadata": {},
   "outputs": [
    {
     "output_type": "execute_result",
     "data": {
      "text/plain": [
       "[('file:/home/anthony/Documents/Spark/files/salidaTexto/part-00004',\n",
       "  '29,Cycling\\n30,Diving\\n31,Canoeing\\n32,Tennis\\n33,Modern Pentathlon\\n34,Figure Skating\\n35,Golf\\n'),\n",
       " ('file:/home/anthony/Documents/Spark/files/salidaTexto/part-00007',\n",
       "  '47,Beach Volleyball\\n48,Triathlon\\n49,Ski Jumping\\n50,Curling\\n51,Snowboarding\\n52,Rugby\\n53,Short Track Speed Skating\\n'),\n",
       " ('file:/home/anthony/Documents/Spark/files/salidaTexto/part-00005',\n",
       "  '36,Softball\\n37,Archery\\n38,Volleyball\\n39,Synchronized Swimming\\n40,Table Tennis\\n41,Nordic Combined\\n'),\n",
       " ('file:/home/anthony/Documents/Spark/files/salidaTexto/part-00001',\n",
       "  '7,Athletics\\n8,Ice Hockey\\n9,Swimming\\n10,Badminton\\n11,Sailing\\n12,Biathlon\\n13,Gymnastics\\n14,Art Competitions\\n'),\n",
       " ('file:/home/anthony/Documents/Spark/files/salidaTexto/part-00000',\n",
       "  'deporte_id,deporte\\n1,Basketball\\n2,Judo\\n3,Football\\n4,Tug-Of-War\\n5,Speed Skating\\n6,Cross Country Skiing\\n')]"
      ]
     },
     "metadata": {},
     "execution_count": 24
    }
   ],
   "source": [
    "rdd.take(5)"
   ]
  },
  {
   "cell_type": "code",
   "execution_count": 25,
   "metadata": {},
   "outputs": [],
   "source": [
    "lista = rdd.mapValues( lambda x : x.split()).collect()"
   ]
  },
  {
   "cell_type": "code",
   "execution_count": 27,
   "metadata": {},
   "outputs": [],
   "source": [
    "lista = [ l[0] for l in lista]\n",
    "lista.sort()"
   ]
  },
  {
   "cell_type": "code",
   "execution_count": 28,
   "metadata": {},
   "outputs": [
    {
     "output_type": "execute_result",
     "data": {
      "text/plain": [
       "['file:/home/anthony/Documents/Spark/files/salidaTexto/part-00000',\n",
       " 'file:/home/anthony/Documents/Spark/files/salidaTexto/part-00001',\n",
       " 'file:/home/anthony/Documents/Spark/files/salidaTexto/part-00002',\n",
       " 'file:/home/anthony/Documents/Spark/files/salidaTexto/part-00003',\n",
       " 'file:/home/anthony/Documents/Spark/files/salidaTexto/part-00004',\n",
       " 'file:/home/anthony/Documents/Spark/files/salidaTexto/part-00005',\n",
       " 'file:/home/anthony/Documents/Spark/files/salidaTexto/part-00006',\n",
       " 'file:/home/anthony/Documents/Spark/files/salidaTexto/part-00007',\n",
       " 'file:/home/anthony/Documents/Spark/files/salidaTexto/part-00008',\n",
       " 'file:/home/anthony/Documents/Spark/files/salidaTexto/part-00009']"
      ]
     },
     "metadata": {},
     "execution_count": 28
    }
   ],
   "source": [
    "lista"
   ]
  },
  {
   "cell_type": "code",
   "execution_count": 29,
   "metadata": {},
   "outputs": [],
   "source": [
    "rdd2 = spark.sparkContext.textFile(','.join(lista), 10).map(lambda l : l.split())"
   ]
  },
  {
   "cell_type": "code",
   "execution_count": 30,
   "metadata": {},
   "outputs": [
    {
     "output_type": "execute_result",
     "data": {
      "text/plain": [
       "[['deporte_id,deporte'],\n",
       " ['1,Basketball'],\n",
       " ['2,Judo'],\n",
       " ['3,Football'],\n",
       " ['4,Tug-Of-War']]"
      ]
     },
     "metadata": {},
     "execution_count": 30
    }
   ],
   "source": [
    "rdd2.take(5)"
   ]
  },
  {
   "cell_type": "code",
   "execution_count": null,
   "metadata": {},
   "outputs": [],
   "source": []
  }
 ]
}