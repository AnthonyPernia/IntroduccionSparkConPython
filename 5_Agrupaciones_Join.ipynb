{
 "cells": [
  {
   "cell_type": "code",
   "execution_count": 79,
   "metadata": {},
   "outputs": [],
   "source": [
    "from pyspark import SparkContext\n",
    "from pyspark.sql import SparkSession\n",
    "from pyspark.sql.types import StructField, StructType, IntegerType, StringType, FloatType\n",
    "from pyspark.sql import SQLContext\n",
    "from pyspark.sql.functions import col\n",
    "from pyspark.sql.functions import sum, avg"
   ]
  },
  {
   "cell_type": "code",
   "execution_count": 2,
   "metadata": {},
   "outputs": [],
   "source": [
    "spark = SparkContext(master='local', appName='Dataframes')\n",
    "sqlContext = SQLContext(spark)"
   ]
  },
  {
   "cell_type": "code",
   "execution_count": 3,
   "metadata": {},
   "outputs": [
    {
     "output_type": "stream",
     "name": "stdout",
     "text": [
      "deporte.csv\t deportistaError.csv  modelo_relacional.jpg\ndeportista2.csv  evento.csv\t      paises.csv\ndeportista.csv\t juegos.csv\t      resultados.csv\n"
     ]
    }
   ],
   "source": [
    "!ls files"
   ]
  },
  {
   "cell_type": "code",
   "execution_count": 4,
   "metadata": {},
   "outputs": [],
   "source": [
    "#aca cargo la ruta del archivo\n",
    "path = \"files/\""
   ]
  },
  {
   "cell_type": "code",
   "execution_count": 5,
   "metadata": {},
   "outputs": [],
   "source": [
    "equiposOlimpicosRDD = spark.textFile(path+'paises.csv') \\\n",
    "    .map(lambda line : line.split(','))"
   ]
  },
  {
   "cell_type": "code",
   "execution_count": 6,
   "metadata": {},
   "outputs": [],
   "source": [
    "#sc.stop() #stop detiene el contexto"
   ]
  },
  {
   "cell_type": "code",
   "execution_count": 7,
   "metadata": {},
   "outputs": [],
   "source": [
    "deportistaOlimpicoRDD = spark.textFile(path+'deportista.csv').map(lambda l: l.split(','))\n",
    "deportistaOlimpicoRDD2 = spark.textFile(path+'deportista2.csv').map(lambda l: l.split(','))"
   ]
  },
  {
   "cell_type": "code",
   "execution_count": 8,
   "metadata": {},
   "outputs": [],
   "source": [
    "deportistaOlimpicoRDD = deportistaOlimpicoRDD.union(deportistaOlimpicoRDD2)"
   ]
  },
  {
   "cell_type": "code",
   "execution_count": 9,
   "metadata": {},
   "outputs": [
    {
     "output_type": "execute_result",
     "data": {
      "text/plain": [
       "135572"
      ]
     },
     "metadata": {},
     "execution_count": 9
    }
   ],
   "source": [
    "deportistaOlimpicoRDD.count()"
   ]
  },
  {
   "cell_type": "code",
   "execution_count": 10,
   "metadata": {},
   "outputs": [],
   "source": [
    "def eliminaEncabezado(indice, interador):\n",
    "    return iter(list(interador)[1:])"
   ]
  },
  {
   "cell_type": "code",
   "execution_count": 11,
   "metadata": {},
   "outputs": [],
   "source": [
    "deportistaOlimpicoRDD = deportistaOlimpicoRDD.mapPartitionsWithIndex(eliminaEncabezado)"
   ]
  },
  {
   "cell_type": "code",
   "execution_count": 12,
   "metadata": {},
   "outputs": [],
   "source": [
    "deportistaOlimpicoRDD = deportistaOlimpicoRDD.map(lambda l: \n",
    "    (\n",
    "    int(l[0]),\n",
    "    l[1],\n",
    "    int(l[2]),\n",
    "    int(l[3]),\n",
    "    int(l[4]),\n",
    "    float(l[5]),\n",
    "    int(l[6])\n",
    "    )\n",
    ")"
   ]
  },
  {
   "cell_type": "code",
   "execution_count": 13,
   "metadata": {},
   "outputs": [],
   "source": [
    "schema = StructType([\n",
    "    StructField('deportista_id', IntegerType(), False),\n",
    "    StructField('nombre', StringType(), False),\n",
    "    StructField('genero', IntegerType(), False),\n",
    "    StructField('edad', IntegerType(), False),\n",
    "    StructField('altura', IntegerType(), False),\n",
    "    StructField('peso', FloatType(), False),\n",
    "    StructField('equipo_id', IntegerType(), False )\n",
    "])"
   ]
  },
  {
   "cell_type": "code",
   "execution_count": 88,
   "metadata": {},
   "outputs": [],
   "source": []
  },
  {
   "cell_type": "code",
   "execution_count": 14,
   "metadata": {},
   "outputs": [],
   "source": [
    "deportistaOlimpicoDF = sqlContext.createDataFrame(deportistaOlimpicoRDD, schema)"
   ]
  },
  {
   "cell_type": "code",
   "execution_count": 15,
   "metadata": {},
   "outputs": [
    {
     "output_type": "stream",
     "name": "stdout",
     "text": [
      "+-------------+-------------------+------+----+------+----+---------+\n|deportista_id|             nombre|genero|edad|altura|peso|equipo_id|\n+-------------+-------------------+------+----+------+----+---------+\n|            1|          A Dijiang|     1|  24|   180|80.0|      199|\n|            2|           A Lamusi|     1|  23|   170|60.0|      199|\n|            3|Gunnar Nielsen Aaby|     1|  24|     0| 0.0|      273|\n+-------------+-------------------+------+----+------+----+---------+\nonly showing top 3 rows\n\n"
     ]
    }
   ],
   "source": [
    "deportistaOlimpicoDF.show(3)"
   ]
  },
  {
   "cell_type": "code",
   "execution_count": 16,
   "metadata": {},
   "outputs": [],
   "source": [
    "evento_schema = StructType([\n",
    "    StructField('evento_id', IntegerType(), False),\n",
    "    StructField('evento', StringType(), False),\n",
    "    StructField('deporte_id', IntegerType(), False)\n",
    "])"
   ]
  },
  {
   "cell_type": "code",
   "execution_count": 17,
   "metadata": {},
   "outputs": [],
   "source": [
    "eventoDF = sqlContext.read.format(\"csv\").\\\n",
    "        option(\"header\", True).\\\n",
    "        schema(evento_schema).\\\n",
    "        load(path+\"evento.csv\")"
   ]
  },
  {
   "cell_type": "code",
   "execution_count": 18,
   "metadata": {},
   "outputs": [
    {
     "output_type": "stream",
     "name": "stdout",
     "text": [
      "+---------+--------------------+----------+\n|evento_id|              evento|deporte_id|\n+---------+--------------------+----------+\n|        1|Basketball Men's ...|         1|\n|        2|Judo Men's Extra-...|         2|\n|        3|Football Men's Fo...|         3|\n|        4|Tug-Of-War Men's ...|         4|\n+---------+--------------------+----------+\nonly showing top 4 rows\n\n"
     ]
    }
   ],
   "source": [
    "eventoDF.show(4)"
   ]
  },
  {
   "cell_type": "code",
   "execution_count": 19,
   "metadata": {},
   "outputs": [],
   "source": [
    "paises_schema = StructType([\n",
    "    StructField(\"paises_id\", IntegerType(), False),\n",
    "    StructField(\"equipo\", StringType(), False), \n",
    "    StructField(\"sigla\", StringType(), False)\n",
    "])\n"
   ]
  },
  {
   "cell_type": "code",
   "execution_count": 20,
   "metadata": {},
   "outputs": [],
   "source": [
    "paisesDF = sqlContext.read.format(\"csv\").\\\n",
    "        option(\"header\", True).\\\n",
    "        schema(paises_schema).\\\n",
    "        load(path+\"paises.csv\")\n"
   ]
  },
  {
   "cell_type": "code",
   "execution_count": 21,
   "metadata": {},
   "outputs": [
    {
     "output_type": "stream",
     "name": "stdout",
     "text": [
      "+---------+--------------------+-----+\n|paises_id|              equipo|sigla|\n+---------+--------------------+-----+\n|        1|         30. Februar|  AUT|\n|        2|A North American ...|  MEX|\n|        3|           Acipactli|  MEX|\n|        4|             Acturus|  ARG|\n+---------+--------------------+-----+\nonly showing top 4 rows\n\n"
     ]
    }
   ],
   "source": [
    "paisesDF.show(4)"
   ]
  },
  {
   "cell_type": "code",
   "execution_count": 22,
   "metadata": {},
   "outputs": [],
   "source": [
    "resultados_schema = StructType([\n",
    "    StructField(\"resultado_id\", IntegerType(), False),\n",
    "    StructField(\"medalla\", StringType(), False),\n",
    "    StructField(\"deportista_id\", IntegerType(), False),\n",
    "    StructField(\"juego_id\", IntegerType(), False),\n",
    "    StructField(\"evento_id\", IntegerType(), False)\n",
    "])\n"
   ]
  },
  {
   "cell_type": "code",
   "execution_count": 23,
   "metadata": {},
   "outputs": [],
   "source": [
    "resultadosDF = sqlContext.read.format(\"csv\").\\\n",
    "            option(\"header\", True).\\\n",
    "            schema(resultados_schema).\\\n",
    "            load(path+\"resultados.csv\")\n"
   ]
  },
  {
   "cell_type": "code",
   "execution_count": 24,
   "metadata": {},
   "outputs": [
    {
     "output_type": "stream",
     "name": "stdout",
     "text": [
      "+------------+-------+-------------+--------+---------+\n|resultado_id|medalla|deportista_id|juego_id|evento_id|\n+------------+-------+-------------+--------+---------+\n|           1|     NA|            1|      39|        1|\n|           2|     NA|            2|      49|        2|\n|           3|     NA|            3|       7|        3|\n|           4|   Gold|            4|       2|        4|\n+------------+-------+-------------+--------+---------+\nonly showing top 4 rows\n\n"
     ]
    }
   ],
   "source": [
    "resultadosDF.show(4)"
   ]
  },
  {
   "cell_type": "code",
   "execution_count": 25,
   "metadata": {},
   "outputs": [],
   "source": [
    "deportes_schema = StructType([\n",
    "    StructField(\"deporte_id\", IntegerType(), False),\n",
    "    StructField(\"deporte\", StringType(), False)\n",
    "])"
   ]
  },
  {
   "cell_type": "code",
   "execution_count": 26,
   "metadata": {},
   "outputs": [],
   "source": [
    "deportesDF = sqlContext.read.format(\"csv\").\\\n",
    "            option(\"header\", True).\\\n",
    "            schema(deportes_schema).\\\n",
    "            load(path+\"deporte.csv\")"
   ]
  },
  {
   "cell_type": "code",
   "execution_count": 27,
   "metadata": {},
   "outputs": [
    {
     "output_type": "stream",
     "name": "stdout",
     "text": [
      "+----------+----------+\n|deporte_id|   deporte|\n+----------+----------+\n|         1|Basketball|\n|         2|      Judo|\n+----------+----------+\nonly showing top 2 rows\n\n"
     ]
    }
   ],
   "source": [
    "deportesDF.show(2)"
   ]
  },
  {
   "cell_type": "code",
   "execution_count": 28,
   "metadata": {},
   "outputs": [
    {
     "output_type": "stream",
     "name": "stdout",
     "text": [
      "root\n |-- deporte_id: integer (nullable = true)\n |-- deporte: string (nullable = true)\n\n"
     ]
    }
   ],
   "source": [
    "deportesDF.printSchema()"
   ]
  },
  {
   "cell_type": "code",
   "execution_count": 29,
   "metadata": {},
   "outputs": [
    {
     "output_type": "stream",
     "name": "stdout",
     "text": [
      "root\n |-- deportista_id: integer (nullable = false)\n |-- nombre: string (nullable = false)\n |-- genero: integer (nullable = false)\n |-- edad: integer (nullable = false)\n |-- altura: integer (nullable = false)\n |-- peso: float (nullable = false)\n |-- equipo_id: integer (nullable = false)\n\n"
     ]
    }
   ],
   "source": [
    "deportistaOlimpicoDF.printSchema()"
   ]
  },
  {
   "cell_type": "code",
   "execution_count": 30,
   "metadata": {},
   "outputs": [],
   "source": [
    "#eliminanado y renombrando columnas\n",
    "deportistaOlimpicoDF = deportistaOlimpicoDF.withColumnRenamed('genero','sexo').drop('altura')"
   ]
  },
  {
   "cell_type": "code",
   "execution_count": 31,
   "metadata": {},
   "outputs": [
    {
     "output_type": "stream",
     "name": "stdout",
     "text": [
      "root\n |-- deportista_id: integer (nullable = false)\n |-- nombre: string (nullable = false)\n |-- sexo: integer (nullable = false)\n |-- edad: integer (nullable = false)\n |-- peso: float (nullable = false)\n |-- equipo_id: integer (nullable = false)\n\n"
     ]
    }
   ],
   "source": [
    "deportistaOlimpicoDF.printSchema()"
   ]
  },
  {
   "cell_type": "code",
   "execution_count": null,
   "metadata": {},
   "outputs": [],
   "source": []
  },
  {
   "cell_type": "code",
   "execution_count": 32,
   "metadata": {},
   "outputs": [],
   "source": [
    "deportistaOlimpicoDF = deportistaOlimpicoDF.select('deportista_id', 'nombre', col('edad').alias('edadAlJugar'), 'equipo_id')"
   ]
  },
  {
   "cell_type": "code",
   "execution_count": 33,
   "metadata": {},
   "outputs": [
    {
     "output_type": "stream",
     "name": "stdout",
     "text": [
      "+-------------+--------------------+-----------+---------+\n|deportista_id|              nombre|edadAlJugar|equipo_id|\n+-------------+--------------------+-----------+---------+\n|            1|           A Dijiang|         24|      199|\n|            2|            A Lamusi|         23|      199|\n|            3| Gunnar Nielsen Aaby|         24|      273|\n|            4|Edgar Lindenau Aabye|         34|      278|\n|            5|Christine Jacoba ...|         21|      705|\n+-------------+--------------------+-----------+---------+\nonly showing top 5 rows\n\n"
     ]
    }
   ],
   "source": [
    "deportistaOlimpicoDF.show(5)"
   ]
  },
  {
   "cell_type": "code",
   "execution_count": 35,
   "metadata": {},
   "outputs": [],
   "source": [
    "deportistaOlimpicoDF = deportistaOlimpicoDF.filter(deportistaOlimpicoDF.edadAlJugar != 0)"
   ]
  },
  {
   "cell_type": "code",
   "execution_count": 36,
   "metadata": {},
   "outputs": [
    {
     "output_type": "stream",
     "name": "stdout",
     "text": [
      "+-------------+--------------------+-----------+---------+\n|deportista_id|              nombre|edadAlJugar|equipo_id|\n+-------------+--------------------+-----------+---------+\n|        71691|  Dimitrios Loundras|         10|      333|\n|        52070|        Etsuko Inada|         11|      514|\n|        40129|    Luigina Giavotti|         11|      507|\n|        37333|Carlos Bienvenido...|         11|      982|\n|        47618|Sonja Henie Toppi...|         11|      742|\n+-------------+--------------------+-----------+---------+\nonly showing top 5 rows\n\n"
     ]
    }
   ],
   "source": [
    "deportistaOlimpicoDF.sort('edadAlJugar').show(5)"
   ]
  },
  {
   "cell_type": "code",
   "execution_count": 37,
   "metadata": {},
   "outputs": [],
   "source": [
    "juego_schema = StructType([\n",
    "    StructField(\"juego_id\", IntegerType(), False),\n",
    "    StructField(\"anio\", StringType(), False),\n",
    "    StructField(\"temporada\", StringType(), False),\n",
    "    StructField(\"ciudad\", StringType(), False)\n",
    "])"
   ]
  },
  {
   "cell_type": "code",
   "execution_count": 39,
   "metadata": {},
   "outputs": [],
   "source": [
    "juegoDF = sqlContext.read.format(\"csv\").\\\n",
    "            option(\"header\", True).\\\n",
    "            schema(juego_schema).\\\n",
    "            load(path+\"juegos.csv\")"
   ]
  },
  {
   "cell_type": "code",
   "execution_count": 41,
   "metadata": {},
   "outputs": [
    {
     "output_type": "stream",
     "name": "stdout",
     "text": [
      "+--------+-----------+---------+------+\n|juego_id|       anio|temporada|ciudad|\n+--------+-----------+---------+------+\n|       1|1896 Verano|     1896|Verano|\n|       2|1900 Verano|     1900|Verano|\n|       3|1904 Verano|     1904|Verano|\n|       4|1906 Verano|     1906|Verano|\n+--------+-----------+---------+------+\nonly showing top 4 rows\n\n"
     ]
    }
   ],
   "source": [
    "juegoDF.show(4)"
   ]
  },
  {
   "cell_type": "code",
   "execution_count": 42,
   "metadata": {},
   "outputs": [
    {
     "output_type": "stream",
     "name": "stdout",
     "text": [
      "+----------+-------------+\n|deporte_id|      deporte|\n+----------+-------------+\n|         1|   Basketball|\n|         2|         Judo|\n|         3|     Football|\n|         4|   Tug-Of-War|\n|         5|Speed Skating|\n+----------+-------------+\nonly showing top 5 rows\n\n"
     ]
    }
   ],
   "source": [
    "deportesDF.show(5)"
   ]
  },
  {
   "cell_type": "code",
   "execution_count": 58,
   "metadata": {},
   "outputs": [
    {
     "output_type": "stream",
     "name": "stdout",
     "text": [
      "+--------------------+-----------+-------+-------------+--------------------+\n|              nombre|edadAlJugar|medalla| año de juego|nombre de desciplina|\n+--------------------+-----------+-------+-------------+--------------------+\n|           A Dijiang|         24|     NA|  1992 Verano|Basketball Men's ...|\n|            A Lamusi|         23|     NA|  2012 Verano|Judo Men's Extra-...|\n| Gunnar Nielsen Aaby|         24|     NA|  1920 Verano|Football Men's Fo...|\n|Edgar Lindenau Aabye|         34|   Gold|  1900 Verano|Tug-Of-War Men's ...|\n|Christine Jacoba ...|         21|     NA|1994 Invierno|Speed Skating Wom...|\n|Christine Jacoba ...|         21|     NA|1994 Invierno|Speed Skating Wom...|\n|Christine Jacoba ...|         21|     NA|1992 Invierno|Speed Skating Wom...|\n|Christine Jacoba ...|         21|     NA|1992 Invierno|Speed Skating Wom...|\n|Christine Jacoba ...|         21|     NA|1988 Invierno|Speed Skating Wom...|\n|Christine Jacoba ...|         21|     NA|1988 Invierno|Speed Skating Wom...|\n|     Per Knut Aaland|         31|     NA|1994 Invierno|Cross Country Ski...|\n|     Per Knut Aaland|         31|     NA|1994 Invierno|Cross Country Ski...|\n|     Per Knut Aaland|         31|     NA|1994 Invierno|Cross Country Ski...|\n|     Per Knut Aaland|         31|     NA|1994 Invierno|Cross Country Ski...|\n|     Per Knut Aaland|         31|     NA|1992 Invierno|Cross Country Ski...|\n|     Per Knut Aaland|         31|     NA|1992 Invierno|Cross Country Ski...|\n|     Per Knut Aaland|         31|     NA|1992 Invierno|Cross Country Ski...|\n|     Per Knut Aaland|         31|     NA|1992 Invierno|Cross Country Ski...|\n|        John Aalberg|         31|     NA|1994 Invierno|Cross Country Ski...|\n|        John Aalberg|         31|     NA|1994 Invierno|Cross Country Ski...|\n+--------------------+-----------+-------+-------------+--------------------+\nonly showing top 20 rows\n\n"
     ]
    }
   ],
   "source": [
    "deportistaOlimpicoDF.join(resultadosDF, deportistaOlimpicoDF.deportista_id == resultadosDF.deportista_id, 'left') \\\n",
    ".join(juegoDF, juegoDF.juego_id == resultadosDF.juego_id, 'left') \\\n",
    ".join(eventoDF, eventoDF.evento_id == resultadosDF.evento_id, 'left') \\\n",
    ".select(deportistaOlimpicoDF.nombre ,'edadAlJugar','medalla', col('anio').alias('año de juego'), eventoDF.evento.alias('nombre de desciplina')).show()"
   ]
  },
  {
   "cell_type": "code",
   "execution_count": 61,
   "metadata": {},
   "outputs": [
    {
     "output_type": "stream",
     "name": "stdout",
     "text": [
      "+-------+--------+-----+\n|medalla|  equipo|sigla|\n+-------+--------+-----+\n|   Gold|Zimbabwe|  ZIM|\n|   Gold|Zimbabwe|  ZIM|\n| Silver|Zimbabwe|  ZIM|\n|   Gold|Zimbabwe|  ZIM|\n|   Gold|Zimbabwe|  ZIM|\n| Silver|Zimbabwe|  ZIM|\n| Silver|Zimbabwe|  ZIM|\n|   Gold|Zimbabwe|  ZIM|\n|   Gold|Zimbabwe|  ZIM|\n|   Gold|Zimbabwe|  ZIM|\n|   Gold|Zimbabwe|  ZIM|\n|   Gold|Zimbabwe|  ZIM|\n|   Gold|Zimbabwe|  ZIM|\n| Bronze|Zimbabwe|  ZIM|\n| Silver|Zimbabwe|  ZIM|\n|   Gold|Zimbabwe|  ZIM|\n|   Gold|Zimbabwe|  ZIM|\n|   Gold|Zimbabwe|  ZIM|\n|   Gold|Zimbabwe|  ZIM|\n|   Gold|Zimbabwe|  ZIM|\n+-------+--------+-----+\nonly showing top 20 rows\n\n"
     ]
    }
   ],
   "source": [
    "resultadosDF.filter(resultadosDF.medalla != 'NA') \\\n",
    "    .join(deportistaOlimpicoDF, deportistaOlimpicoDF.deportista_id == resultadosDF.deportista_id, 'left') \\\n",
    "        .join(paisesDF, paisesDF.paises_id == deportistaOlimpicoDF.equipo_id, 'left') \\\n",
    "            .select('medalla', 'equipo', 'sigla') \\\n",
    "                .sort( col('sigla').desc()).show()"
   ]
  },
  {
   "cell_type": "code",
   "execution_count": 70,
   "metadata": {},
   "outputs": [],
   "source": [
    "medallistaXAnio = deportistaOlimpicoDF \\\n",
    "    .join(\n",
    "        resultadosDF, \n",
    "        deportistaOlimpicoDF.deportista_id == resultadosDF.deportista_id, \n",
    "        \"left\"\n",
    "    ) \\\n",
    "    .join(\n",
    "        juegoDF, \n",
    "        juegoDF.juego_id == resultadosDF.juego_id, \n",
    "        \"left\"\n",
    "    ) \\\n",
    "    .join(\n",
    "        paisesDF, \n",
    "        deportistaOlimpicoDF.equipo_id == paisesDF.paises_id, \n",
    "        \"left\"\n",
    "    ) \\\n",
    "    .join(\n",
    "        eventoDF, \n",
    "        eventoDF.evento_id == resultadosDF.evento_id, \n",
    "        \"left\"\n",
    "    ) \\\n",
    "    .join(\n",
    "        deportesDF, \n",
    "        eventoDF.deporte_id == deportesDF.deporte_id, \n",
    "        \"left\"\n",
    "    ) \\\n",
    "    .select(\n",
    "        \"sigla\",\n",
    "        \"anio\",\n",
    "        \"medalla\",\n",
    "        eventoDF.evento.alias(\"nombre subdisciplina\"),\n",
    "        deportesDF.deporte.alias(\"nombre disciplina\"),\n",
    "        deportistaOlimpicoDF.nombre    \n",
    "    )\n"
   ]
  },
  {
   "cell_type": "code",
   "execution_count": 71,
   "metadata": {},
   "outputs": [
    {
     "output_type": "stream",
     "name": "stdout",
     "text": [
      "+-----+-------------+-------+--------------------+-----------------+--------------------+\n|sigla|         anio|medalla|nombre subdisciplina|nombre disciplina|              nombre|\n+-----+-------------+-------+--------------------+-----------------+--------------------+\n|  CHN|  1992 Verano|     NA|Basketball Men's ...|       Basketball|           A Dijiang|\n|  CHN|  2012 Verano|     NA|Judo Men's Extra-...|             Judo|            A Lamusi|\n|  DEN|  1920 Verano|     NA|Football Men's Fo...|         Football| Gunnar Nielsen Aaby|\n|  SWE|  1900 Verano|   Gold|Tug-Of-War Men's ...|       Tug-Of-War|Edgar Lindenau Aabye|\n|  NED|1994 Invierno|     NA|Speed Skating Wom...|    Speed Skating|Christine Jacoba ...|\n|  NED|1994 Invierno|     NA|Speed Skating Wom...|    Speed Skating|Christine Jacoba ...|\n|  NED|1992 Invierno|     NA|Speed Skating Wom...|    Speed Skating|Christine Jacoba ...|\n|  NED|1992 Invierno|     NA|Speed Skating Wom...|    Speed Skating|Christine Jacoba ...|\n|  NED|1988 Invierno|     NA|Speed Skating Wom...|    Speed Skating|Christine Jacoba ...|\n|  NED|1988 Invierno|     NA|Speed Skating Wom...|    Speed Skating|Christine Jacoba ...|\n+-----+-------------+-------+--------------------+-----------------+--------------------+\nonly showing top 10 rows\n\n"
     ]
    }
   ],
   "source": [
    "medallistaXAnio.show(10)"
   ]
  },
  {
   "cell_type": "code",
   "execution_count": 73,
   "metadata": {},
   "outputs": [],
   "source": [
    "medallistaXAnio2 = medallistaXAnio.filter(medallistaXAnio.medalla != 'NA') \\\n",
    "    .sort('anio') \\\n",
    "        .groupBy('sigla', 'anio','nombre subdisciplina') \\\n",
    "            .count()"
   ]
  },
  {
   "cell_type": "code",
   "execution_count": 74,
   "metadata": {},
   "outputs": [
    {
     "output_type": "stream",
     "name": "stdout",
     "text": [
      "root\n |-- sigla: string (nullable = true)\n |-- anio: string (nullable = true)\n |-- nombre subdisciplina: string (nullable = true)\n |-- count: long (nullable = false)\n\n"
     ]
    }
   ],
   "source": [
    "medallistaXAnio2.printSchema()"
   ]
  },
  {
   "cell_type": "code",
   "execution_count": 80,
   "metadata": {},
   "outputs": [
    {
     "output_type": "stream",
     "name": "stdout",
     "text": [
      "+-----+-------------+------------------+------------------+\n|sigla|         anio|total de me dallas|  medalla promedio|\n+-----+-------------+------------------+------------------+\n|  NED|1992 Invierno|                 4|1.3333333333333333|\n|  BEL|  2000 Verano|                 7|               1.4|\n|  MAS|  2012 Verano|                 2|               1.0|\n|  MGL|  2008 Verano|                 5|              1.25|\n|  SWE|  1976 Verano|                10|               2.0|\n|  SUI|2014 Invierno|                29|3.2222222222222223|\n|  ETH|  2004 Verano|                 7|              1.75|\n|  AUT|  1928 Verano|                 5|              1.25|\n|  SYR|  1984 Verano|                 1|               1.0|\n|  ITA|  1996 Verano|                69| 2.225806451612903|\n|  THA|  2008 Verano|                 4|               1.0|\n|  URS|1984 Invierno|                56|               2.8|\n|  DEN|  1896 Verano|                 6|               1.0|\n|  GRN|  2016 Verano|                 1|               1.0|\n|  DEN|  1956 Verano|                 6|               1.5|\n|  ARG|  2004 Verano|                49| 8.166666666666666|\n|  CHI|  1988 Verano|                 1|               1.0|\n|  GBR|  1980 Verano|                49|              2.45|\n|  ITA|  1972 Verano|                25|            1.5625|\n|  UGA|  1980 Verano|                 1|               1.0|\n+-----+-------------+------------------+------------------+\nonly showing top 20 rows\n\n"
     ]
    }
   ],
   "source": [
    "medallistaXAnio2.groupBy('sigla', 'anio') \\\n",
    "    .agg(sum('count').alias('total de me dallas'), avg('count').alias('medalla promedio')).show()"
   ]
  },
  {
   "cell_type": "code",
   "execution_count": null,
   "metadata": {},
   "outputs": [],
   "source": []
  }
 ],
 "metadata": {
  "kernelspec": {
   "display_name": "Python 3",
   "language": "python",
   "name": "python3"
  },
  "language_info": {
   "codemirror_mode": {
    "name": "ipython",
    "version": 3
   },
   "file_extension": ".py",
   "mimetype": "text/x-python",
   "name": "python",
   "nbconvert_exporter": "python",
   "pygments_lexer": "ipython3",
   "version": "3.8.3-final"
  }
 },
 "nbformat": 4,
 "nbformat_minor": 2
}