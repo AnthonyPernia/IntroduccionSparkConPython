{
 "metadata": {
  "language_info": {
   "codemirror_mode": {
    "name": "ipython",
    "version": 3
   },
   "file_extension": ".py",
   "mimetype": "text/x-python",
   "name": "python",
   "nbconvert_exporter": "python",
   "pygments_lexer": "ipython3",
   "version": "3.8.3-final"
  },
  "orig_nbformat": 2,
  "kernelspec": {
   "name": "python3",
   "display_name": "Python 3"
  }
 },
 "nbformat": 4,
 "nbformat_minor": 2,
 "cells": [
  {
   "cell_type": "code",
   "execution_count": 30,
   "metadata": {},
   "outputs": [],
   "source": [
    "from pyspark import SparkContext\n",
    "from pyspark.sql.types import StructField, StructType, IntegerType, StringType, FloatType\n",
    "from pyspark.sql import SQLContext\n",
    "from pyspark.sql.functions import udf"
   ]
  },
  {
   "cell_type": "code",
   "execution_count": 9,
   "metadata": {},
   "outputs": [],
   "source": [
    "spark = SparkContext(master='local', appName='Dataframes')\n"
   ]
  },
  {
   "cell_type": "code",
   "execution_count": 27,
   "metadata": {},
   "outputs": [],
   "source": [
    "sqlContext = SQLContext(spark)"
   ]
  },
  {
   "cell_type": "code",
   "execution_count": 8,
   "metadata": {},
   "outputs": [],
   "source": [
    "#spark.stop()"
   ]
  },
  {
   "cell_type": "code",
   "execution_count": 5,
   "metadata": {},
   "outputs": [],
   "source": [
    "path = \"files/\""
   ]
  },
  {
   "cell_type": "code",
   "execution_count": 4,
   "metadata": {},
   "outputs": [
    {
     "output_type": "stream",
     "name": "stdout",
     "text": [
      "deportista_id,nombre,genero,edad,altura,peso,equipo_id\n1,A Dijiang,1,24,180,80,199\n2,A Lamusi,1,23,170,60,199\n3,Gunnar Nielsen Aaby,1,24,,,273\n4,Edgar Lindenau Aabye,1,34,,,278\n"
     ]
    }
   ],
   "source": [
    "!head -n 5 files/deportistaError.csv"
   ]
  },
  {
   "cell_type": "code",
   "execution_count": 11,
   "metadata": {},
   "outputs": [],
   "source": [
    "deportistaError = spark.textFile(path+'deportistaError.csv') \\\n",
    "    .map(lambda l : l.split(','))"
   ]
  },
  {
   "cell_type": "code",
   "execution_count": 12,
   "metadata": {},
   "outputs": [],
   "source": [
    "def eliminaEncabezado(indice, iterador):\n",
    "    return iter(list(iterador)[1:])"
   ]
  },
  {
   "cell_type": "code",
   "execution_count": 13,
   "metadata": {},
   "outputs": [],
   "source": [
    "deportistaError =  deportistaError.mapPartitionsWithIndex(eliminaEncabezado)"
   ]
  },
  {
   "cell_type": "code",
   "execution_count": 15,
   "metadata": {},
   "outputs": [
    {
     "output_type": "execute_result",
     "data": {
      "text/plain": [
       "[['1', 'A Dijiang', '1', '24', '180', '80', '199'],\n",
       " ['2', 'A Lamusi', '1', '23', '170', '60', '199'],\n",
       " ['3', 'Gunnar Nielsen Aaby', '1', '24', '', '', '273']]"
      ]
     },
     "metadata": {},
     "execution_count": 15
    }
   ],
   "source": [
    "deportistaError.take(3)"
   ]
  },
  {
   "cell_type": "code",
   "execution_count": 19,
   "metadata": {},
   "outputs": [],
   "source": [
    "deportistaError = deportistaError.map(lambda l:(\n",
    "l[0],\n",
    "l[1],\n",
    "l[2],\n",
    "l[3],\n",
    "l[4],\n",
    "l[5],\n",
    "l[6]\n",
    ")\n",
    ")"
   ]
  },
  {
   "cell_type": "code",
   "execution_count": 25,
   "metadata": {},
   "outputs": [],
   "source": [
    "schema = StructType(\n",
    "    [\n",
    "        StructField('deportista_id', StringType(), False),\n",
    "        StructField('nombre', StringType(), False),\n",
    "        StructField('genero', StringType(), False),\n",
    "        StructField('edad', StringType(), False),\n",
    "        StructField('altura', StringType(), False),\n",
    "        StructField('peso', StringType() , False),\n",
    "        StructField('equipo_id', StringType(),False)\n",
    "    ]\n",
    ")"
   ]
  },
  {
   "cell_type": "code",
   "execution_count": 28,
   "metadata": {},
   "outputs": [],
   "source": [
    "deportistaErrorDF = sqlContext.createDataFrame(deportistaError, schema)"
   ]
  },
  {
   "cell_type": "code",
   "execution_count": 29,
   "metadata": {},
   "outputs": [
    {
     "output_type": "stream",
     "name": "stdout",
     "text": [
      "+-------------+--------------------+------+----+------+----+---------+\n|deportista_id|              nombre|genero|edad|altura|peso|equipo_id|\n+-------------+--------------------+------+----+------+----+---------+\n|            1|           A Dijiang|     1|  24|   180|  80|      199|\n|            2|            A Lamusi|     1|  23|   170|  60|      199|\n|            3| Gunnar Nielsen Aaby|     1|  24|      |    |      273|\n|            4|Edgar Lindenau Aabye|     1|  34|      |    |      278|\n|            5|Christine Jacoba ...|     2|  21|   185|  82|      705|\n|            6|     Per Knut Aaland|     1|  31|   188|  75|     1096|\n|            7|        John Aalberg|     1|  31|   183|  72|     1096|\n|            8|\"Cornelia \"\"Cor\"\"...|     2|  18|   168|    |      705|\n|            9|    Antti Sami Aalto|     1|  26|   186|  96|      350|\n|           10|\"Einar Ferdinand ...|     1|  26|      |    |      350|\n|           11|  Jorma Ilmari Aalto|     1|  22|   182|76.5|      350|\n|           12|   Jyri Tapani Aalto|     1|  31|   172|  70|      350|\n|           13|  Minna Maarit Aalto|     2|  30|   159|55.5|      350|\n|           14|Pirjo Hannele Aal...|     2|  32|   171|  65|      350|\n|           15|Arvo Ossian Aaltonen|     1|  22|      |    |      350|\n|           16|Juhamatti Tapio A...|     1|  28|   184|  85|      350|\n|           17|Paavo Johannes Aa...|     1|  28|   175|  64|      350|\n|           18|Timo Antero Aaltonen|     1|  31|   189| 130|      350|\n|           19|Win Valdemar Aalt...|     1|  54|      |    |      350|\n|           20|  Kjetil Andr Aamodt|     1|  20|   176|  85|      742|\n+-------------+--------------------+------+----+------+----+---------+\nonly showing top 20 rows\n\n"
     ]
    }
   ],
   "source": [
    "deportistaErrorDF.show()"
   ]
  },
  {
   "cell_type": "code",
   "execution_count": 31,
   "metadata": {},
   "outputs": [],
   "source": [
    "def conversionEnteros(valor):\n",
    "    return int(valor) if len(valor)>0 else None"
   ]
  },
  {
   "cell_type": "code",
   "execution_count": 32,
   "metadata": {},
   "outputs": [],
   "source": [
    "conversionEnteros_udf = udf(lambda z: conversionEnteros(z), IntegerType())"
   ]
  },
  {
   "cell_type": "code",
   "execution_count": 33,
   "metadata": {},
   "outputs": [
    {
     "output_type": "execute_result",
     "data": {
      "text/plain": [
       "<function __main__.<lambda>(z)>"
      ]
     },
     "metadata": {},
     "execution_count": 33
    }
   ],
   "source": [
    "sqlContext.udf.register('conversionEnteros_udf', conversionEnteros_udf)"
   ]
  },
  {
   "cell_type": "code",
   "execution_count": 35,
   "metadata": {},
   "outputs": [
    {
     "output_type": "stream",
     "name": "stdout",
     "text": [
      "+---------+\n|alturaUDF|\n+---------+\n|      180|\n|      170|\n|     null|\n|     null|\n|      185|\n|      188|\n|      183|\n|      168|\n|      186|\n|     null|\n|      182|\n|      172|\n|      159|\n|      171|\n|     null|\n|      184|\n|      175|\n|      189|\n|     null|\n|      176|\n+---------+\nonly showing top 20 rows\n\n"
     ]
    }
   ],
   "source": [
    "deportistaErrorDF.select(conversionEnteros_udf('altura').alias('alturaUDF')).show()"
   ]
  },
  {
   "cell_type": "code",
   "execution_count": null,
   "metadata": {},
   "outputs": [],
   "source": []
  }
 ]
}